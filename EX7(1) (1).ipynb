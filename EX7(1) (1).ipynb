{
 "cells": [
  {
   "cell_type": "code",
   "execution_count": 36,
   "id": "7fc0d63d-26ef-4922-bafb-cf349934ae73",
   "metadata": {},
   "outputs": [],
   "source": [
    "import pandas as pd\n",
    "from sklearn.metrics import classification_report as cr\n",
    "from sklearn.metrics import accuracy_score as ac\n",
    "from sklearn.model_selection import train_test_split as tt\n",
    "from sklearn.ensemble import BaggingClassifier as bg\n",
    "from sklearn.tree import DecisionTreeClassifier as dc \n",
    "from sklearn.neighbors import KNeighborsClassifier as kn\n",
    "from sklearn.svm import SVC\n",
    "from sklearn.ensemble import AdaBoostClassifier as ad\n",
    "from sklearn.ensemble import GradientBoostingClassifier as gr\n",
    "from xgboost import XGBClassifier as xg\n",
    "df=pd.read_csv(\"heart.csv\")"
   ]
  },
  {
   "cell_type": "code",
   "execution_count": 37,
   "id": "66b5e6eb-0ad4-4347-86c6-ab8c82cf5bad",
   "metadata": {},
   "outputs": [
    {
     "data": {
      "text/html": [
       "<div>\n",
       "<style scoped>\n",
       "    .dataframe tbody tr th:only-of-type {\n",
       "        vertical-align: middle;\n",
       "    }\n",
       "\n",
       "    .dataframe tbody tr th {\n",
       "        vertical-align: top;\n",
       "    }\n",
       "\n",
       "    .dataframe thead th {\n",
       "        text-align: right;\n",
       "    }\n",
       "</style>\n",
       "<table border=\"1\" class=\"dataframe\">\n",
       "  <thead>\n",
       "    <tr style=\"text-align: right;\">\n",
       "      <th></th>\n",
       "      <th>age</th>\n",
       "      <th>sex</th>\n",
       "      <th>cp</th>\n",
       "      <th>trestbps</th>\n",
       "      <th>chol</th>\n",
       "      <th>fbs</th>\n",
       "      <th>restecg</th>\n",
       "      <th>thalach</th>\n",
       "      <th>exang</th>\n",
       "      <th>oldpeak</th>\n",
       "      <th>slope</th>\n",
       "      <th>ca</th>\n",
       "      <th>thal</th>\n",
       "      <th>target</th>\n",
       "    </tr>\n",
       "  </thead>\n",
       "  <tbody>\n",
       "    <tr>\n",
       "      <th>0</th>\n",
       "      <td>52</td>\n",
       "      <td>1</td>\n",
       "      <td>0</td>\n",
       "      <td>125</td>\n",
       "      <td>212</td>\n",
       "      <td>0</td>\n",
       "      <td>1</td>\n",
       "      <td>168</td>\n",
       "      <td>0</td>\n",
       "      <td>1.0</td>\n",
       "      <td>2</td>\n",
       "      <td>2</td>\n",
       "      <td>3</td>\n",
       "      <td>0</td>\n",
       "    </tr>\n",
       "    <tr>\n",
       "      <th>1</th>\n",
       "      <td>53</td>\n",
       "      <td>1</td>\n",
       "      <td>0</td>\n",
       "      <td>140</td>\n",
       "      <td>203</td>\n",
       "      <td>1</td>\n",
       "      <td>0</td>\n",
       "      <td>155</td>\n",
       "      <td>1</td>\n",
       "      <td>3.1</td>\n",
       "      <td>0</td>\n",
       "      <td>0</td>\n",
       "      <td>3</td>\n",
       "      <td>0</td>\n",
       "    </tr>\n",
       "    <tr>\n",
       "      <th>2</th>\n",
       "      <td>70</td>\n",
       "      <td>1</td>\n",
       "      <td>0</td>\n",
       "      <td>145</td>\n",
       "      <td>174</td>\n",
       "      <td>0</td>\n",
       "      <td>1</td>\n",
       "      <td>125</td>\n",
       "      <td>1</td>\n",
       "      <td>2.6</td>\n",
       "      <td>0</td>\n",
       "      <td>0</td>\n",
       "      <td>3</td>\n",
       "      <td>0</td>\n",
       "    </tr>\n",
       "    <tr>\n",
       "      <th>3</th>\n",
       "      <td>61</td>\n",
       "      <td>1</td>\n",
       "      <td>0</td>\n",
       "      <td>148</td>\n",
       "      <td>203</td>\n",
       "      <td>0</td>\n",
       "      <td>1</td>\n",
       "      <td>161</td>\n",
       "      <td>0</td>\n",
       "      <td>0.0</td>\n",
       "      <td>2</td>\n",
       "      <td>1</td>\n",
       "      <td>3</td>\n",
       "      <td>0</td>\n",
       "    </tr>\n",
       "    <tr>\n",
       "      <th>4</th>\n",
       "      <td>62</td>\n",
       "      <td>0</td>\n",
       "      <td>0</td>\n",
       "      <td>138</td>\n",
       "      <td>294</td>\n",
       "      <td>1</td>\n",
       "      <td>1</td>\n",
       "      <td>106</td>\n",
       "      <td>0</td>\n",
       "      <td>1.9</td>\n",
       "      <td>1</td>\n",
       "      <td>3</td>\n",
       "      <td>2</td>\n",
       "      <td>0</td>\n",
       "    </tr>\n",
       "  </tbody>\n",
       "</table>\n",
       "</div>"
      ],
      "text/plain": [
       "   age  sex  cp  trestbps  chol  fbs  restecg  thalach  exang  oldpeak  slope  \\\n",
       "0   52    1   0       125   212    0        1      168      0      1.0      2   \n",
       "1   53    1   0       140   203    1        0      155      1      3.1      0   \n",
       "2   70    1   0       145   174    0        1      125      1      2.6      0   \n",
       "3   61    1   0       148   203    0        1      161      0      0.0      2   \n",
       "4   62    0   0       138   294    1        1      106      0      1.9      1   \n",
       "\n",
       "   ca  thal  target  \n",
       "0   2     3       0  \n",
       "1   0     3       0  \n",
       "2   0     3       0  \n",
       "3   1     3       0  \n",
       "4   3     2       0  "
      ]
     },
     "execution_count": 37,
     "metadata": {},
     "output_type": "execute_result"
    }
   ],
   "source": [
    "df.head()"
   ]
  },
  {
   "cell_type": "code",
   "execution_count": 38,
   "id": "b7db2828-29a3-426e-9dc7-94229cc269e9",
   "metadata": {},
   "outputs": [],
   "source": [
    "\n",
    "\n",
    "x=df.drop(columns=['target'])\n",
    "y=df.iloc[:,-1]"
   ]
  },
  {
   "cell_type": "code",
   "execution_count": 39,
   "id": "1c6398fd-59be-43c4-92e5-d7e17ee958b9",
   "metadata": {},
   "outputs": [],
   "source": [
    "\n",
    "xtr,xte,ytr,yte=tt(x,y,test_size=0.2)"
   ]
  },
  {
   "cell_type": "markdown",
   "id": "f7ade5bd-6c66-40a7-9181-ca273cf0eab3",
   "metadata": {},
   "source": [
    "BAGGING "
   ]
  },
  {
   "cell_type": "markdown",
   "id": "0d31b818-2ea2-4be6-915c-0f83a05bbca4",
   "metadata": {},
   "source": [
    "Decision Tree as base estimator"
   ]
  },
  {
   "cell_type": "code",
   "execution_count": 40,
   "id": "db37e0aa-572f-4d40-aea4-ad055c0a1eef",
   "metadata": {},
   "outputs": [],
   "source": [
    "\n",
    "\n",
    "bag = bg(\n",
    "    estimator=dc(max_depth=5),\n",
    "    n_estimators=100,      \n",
    "    max_samples=0.8,        \n",
    "    bootstrap=True, oob_score=True        \n",
    "    \n",
    ")"
   ]
  },
  {
   "cell_type": "code",
   "execution_count": 41,
   "id": "e9cc5926-a8c2-4ea9-8c6f-dfa2e2130ed2",
   "metadata": {},
   "outputs": [
    {
     "name": "stdout",
     "output_type": "stream",
     "text": [
      "OOB Score: 0.9292682926829269\n",
      "Classification Report : \n",
      "              precision    recall  f1-score   support\n",
      "\n",
      "           0       1.00      0.83      0.91       103\n",
      "           1       0.86      1.00      0.92       102\n",
      "\n",
      "    accuracy                           0.92       205\n",
      "   macro avg       0.93      0.92      0.92       205\n",
      "weighted avg       0.93      0.92      0.92       205\n",
      "\n"
     ]
    }
   ],
   "source": [
    "bag.fit(xtr,ytr)\n",
    "print(\"OOB Score:\", bag.oob_score_)\n",
    "yp=bag.predict(xte)\n",
    "a2=ac(yte,yp)\n",
    "print(\"Classification Report : \")\n",
    "print(cr(yte,yp))"
   ]
  },
  {
   "cell_type": "markdown",
   "id": "3bb8db94-1014-4fbb-852b-adc8a43bf1b9",
   "metadata": {},
   "source": [
    "KNN as base estimator"
   ]
  },
  {
   "cell_type": "code",
   "execution_count": 42,
   "id": "4ef63e35-acd6-42d0-9a1a-1ae135b650a4",
   "metadata": {},
   "outputs": [],
   "source": [
    "\n",
    "bag = bg(\n",
    "    estimator=kn(),\n",
    "    n_estimators=100,      \n",
    "    max_samples=0.8,        \n",
    "    bootstrap=True, oob_score=True        \n",
    "    \n",
    ")"
   ]
  },
  {
   "cell_type": "code",
   "execution_count": 43,
   "id": "5d3d4a7f-7436-44be-ab50-28dd5f78d32c",
   "metadata": {},
   "outputs": [
    {
     "name": "stdout",
     "output_type": "stream",
     "text": [
      "OOB Score: 0.748780487804878\n",
      "Classification Report : \n",
      "              precision    recall  f1-score   support\n",
      "\n",
      "           0       0.75      0.83      0.79       103\n",
      "           1       0.81      0.73      0.77       102\n",
      "\n",
      "    accuracy                           0.78       205\n",
      "   macro avg       0.78      0.78      0.78       205\n",
      "weighted avg       0.78      0.78      0.78       205\n",
      "\n"
     ]
    }
   ],
   "source": [
    "bag.fit(xtr,ytr)\n",
    "print(\"OOB Score:\", bag.oob_score_)\n",
    "yp=bag.predict(xte)\n",
    "a3=ac(yte,yp)\n",
    "print(\"Classification Report : \")\n",
    "print(cr(yte,yp))"
   ]
  },
  {
   "cell_type": "markdown",
   "id": "a9f41af7-b7fa-4964-9b16-3cd0a8343e26",
   "metadata": {},
   "source": [
    "SVM as base estimator"
   ]
  },
  {
   "cell_type": "code",
   "execution_count": 44,
   "id": "abbb8151-3240-4c5d-a064-1f5f00645ee4",
   "metadata": {},
   "outputs": [
    {
     "name": "stdout",
     "output_type": "stream",
     "text": [
      "OOB Score: 0.6963414634146341\n",
      "Classification Report : \n",
      "              precision    recall  f1-score   support\n",
      "\n",
      "           0       0.80      0.65      0.72       103\n",
      "           1       0.70      0.83      0.76       102\n",
      "\n",
      "    accuracy                           0.74       205\n",
      "   macro avg       0.75      0.74      0.74       205\n",
      "weighted avg       0.75      0.74      0.74       205\n",
      "\n"
     ]
    }
   ],
   "source": [
    "\n",
    "\n",
    "bag = bg(\n",
    "    estimator=SVC(),\n",
    "    n_estimators=100,      \n",
    "    max_samples=0.8,        \n",
    "    bootstrap=True, oob_score=True        \n",
    "    \n",
    ")\n",
    "bag.fit(xtr,ytr)\n",
    "print(\"OOB Score:\", bag.oob_score_)\n",
    "yp=bag.predict(xte)\n",
    "a4=ac(yte,yp)\n",
    "print(\"Classification Report : \")\n",
    "print(cr(yte,yp))"
   ]
  },
  {
   "cell_type": "markdown",
   "id": "d6c81f4a-a052-496e-855a-30c162b9540a",
   "metadata": {},
   "source": [
    "BAGGING ACCURACY WITH VARIOUS BASE ESTIMATORS"
   ]
  },
  {
   "cell_type": "code",
   "execution_count": 45,
   "id": "c6e43588-8305-4f74-a76f-d338b7a9660b",
   "metadata": {},
   "outputs": [
    {
     "data": {
      "text/plain": [
       "Text(0.5, 1.0, 'BAGGING ACCURACY WITH VARIOuS BASE ESTIMATORS')"
      ]
     },
     "execution_count": 45,
     "metadata": {},
     "output_type": "execute_result"
    },
    {
     "data": {
      "image/png": "[encoded data removed]",
      "text/plain": [
       "<Figure size 640x480 with 1 Axes>"
      ]
     },
     "metadata": {},
     "output_type": "display_data"
    }
   ],
   "source": [
    "acc=[a2,a3,a4]\n",
    "met=[\"Decision Tree\",\"KNN\",\"SVM\"]\n",
    "plt.bar(met,acc)\n",
    "plt.ylabel('accuracy')\n",
    "plt.title('BAGGING ACCURACY WITH VARIOuS BASE ESTIMATORS')"
   ]
  },
  {
   "cell_type": "code",
   "execution_count": null,
   "id": "483de31f-2236-417f-af5e-2188c095ce41",
   "metadata": {},
   "outputs": [],
   "source": []
  },
  {
   "cell_type": "code",
   "execution_count": null,
   "id": "88312b83-2dd0-428e-ac8b-3e353c8cae09",
   "metadata": {},
   "outputs": [],
   "source": []
  },
  {
   "cell_type": "markdown",
   "id": "cac1430b-766a-4d52-8df9-d94fa41b1509",
   "metadata": {},
   "source": [
    "BOOSTING"
   ]
  },
  {
   "cell_type": "markdown",
   "id": "40c83fd0-700b-4e60-a60b-f33b34414252",
   "metadata": {},
   "source": [
    "ADA BOOST"
   ]
  },
  {
   "cell_type": "code",
   "execution_count": 50,
   "id": "2bc54c3a-f570-454a-bf56-0a4f9cc35c11",
   "metadata": {},
   "outputs": [
    {
     "name": "stdout",
     "output_type": "stream",
     "text": [
      "Classification Report : \n",
      "              precision    recall  f1-score   support\n",
      "\n",
      "           0       0.93      0.81      0.86       103\n",
      "           1       0.83      0.94      0.88       102\n",
      "\n",
      "    accuracy                           0.87       205\n",
      "   macro avg       0.88      0.87      0.87       205\n",
      "weighted avg       0.88      0.87      0.87       205\n",
      "\n"
     ]
    }
   ],
   "source": [
    "\n",
    "\n",
    "boost = ad(\n",
    "    estimator=dc(max_depth=1),   # weak learner\n",
    "    n_estimators=100,     # number of weak learners\n",
    "    learning_rate=0.4,    # controls contribution of each learner\n",
    "   \n",
    ")\n",
    "\n",
    "boost.fit(xtr,ytr)\n",
    "yp=boost.predict(xte)\n",
    "a5=ac(yte,yp)\n",
    "print(\"Classification Report : \")\n",
    "print(cr(yte,yp))\n"
   ]
  },
  {
   "cell_type": "markdown",
   "id": "dd51528d-bbdc-4703-9b85-0e3c5a01ae41",
   "metadata": {},
   "source": [
    "<!-- BOOSTING - GRADIENT -->"
   ]
  },
  {
   "cell_type": "markdown",
   "id": "313a6044-b4e8-498e-a401-3cefc1f6911d",
   "metadata": {},
   "source": [
    "GRADIENT BOOST"
   ]
  },
  {
   "cell_type": "code",
   "execution_count": 51,
   "id": "99c5ce63-8639-4ec7-826d-c70abd9cbb3b",
   "metadata": {},
   "outputs": [
    {
     "name": "stdout",
     "output_type": "stream",
     "text": [
      "Classification Report : \n",
      "              precision    recall  f1-score   support\n",
      "\n",
      "           0       0.97      0.93      0.95       103\n",
      "           1       0.93      0.97      0.95       102\n",
      "\n",
      "    accuracy                           0.95       205\n",
      "   macro avg       0.95      0.95      0.95       205\n",
      "weighted avg       0.95      0.95      0.95       205\n",
      "\n"
     ]
    }
   ],
   "source": [
    "\n",
    "\n",
    "gb = gr(\n",
    "    n_estimators=200,     # number of trees\n",
    "    learning_rate=0.1,    # shrinkage factor\n",
    "    max_depth=2,          # depth of each tree\n",
    "    random_state=42`\n",
    ")\n",
    "\n",
    "gb.fit(xtr, ytr)\n",
    "yp = gb.predict(xte)\n",
    "\n",
    "a6=ac(yte,yp)\n",
    "print(\"Classification Report : \")\n",
    "print(cr(yte,yp))\n"
   ]
  },
  {
   "cell_type": "markdown",
   "id": "3db3c5ba-4de8-45a1-bb5e-25dea922075d",
   "metadata": {},
   "source": [
    "XG Boost"
   ]
  },
  {
   "cell_type": "code",
   "execution_count": 60,
   "id": "c51fb724-16a1-439d-83b1-60feee3b4b36",
   "metadata": {},
   "outputs": [
    {
     "name": "stdout",
     "output_type": "stream",
     "text": [
      "\n",
      "Classification Report:\n",
      "               precision    recall  f1-score   support\n",
      "\n",
      "           0       1.00      1.00      1.00       103\n",
      "           1       1.00      1.00      1.00       102\n",
      "\n",
      "    accuracy                           1.00       205\n",
      "   macro avg       1.00      1.00      1.00       205\n",
      "weighted avg       1.00      1.00      1.00       205\n",
      "\n"
     ]
    },
    {
     "name": "stderr",
     "output_type": "stream",
     "text": [
      "C:\\Users\\hanal\\AppData\\Local\\Programs\\Python\\Python313\\Lib\\site-packages\\xgboost\\training.py:183: UserWarning: [14:05:15] WARNING: C:\\actions-runner\\_work\\xgboost\\xgboost\\src\\learner.cc:738: \n",
      "Parameters: { \"use_label_encoder\" } are not used.\n",
      "\n",
      "  bst.update(dtrain, iteration=i, fobj=obj)\n"
     ]
    }
   ],
   "source": [
    "\n",
    "\n",
    "x = xg(\n",
    "    n_estimators=100,        # number of boosting rounds\n",
    "    learning_rate=0.1,       # step size shrinkage\n",
    "    max_depth=5,             # depth of trees\n",
    "    subsample=0.8,           # row sampling\n",
    "    colsample_bytree=0.8,    # feature sampling\n",
    "    random_state=42,\n",
    "    use_label_encoder=False,\n",
    "    eval_metric=\"mlogloss\"\n",
    ")\n",
    "m.fit(xtr, ytr)\n",
    "\n",
    "\n",
    "yp = m.predict(xte)\n",
    "\n",
    "# Evaluation\n",
    "a7= ac(yte, yp)\n",
    "print(\"\\nClassification Report:\\n\", cr(yte, yp))\n"
   ]
  },
  {
   "cell_type": "code",
   "execution_count": 64,
   "id": "e2d36d1b-514b-49b6-a6be-dc93fefd0227",
   "metadata": {},
   "outputs": [
    {
     "data": {
      "text/plain": [
       "Text(0, 0.5, 'accuracy')"
      ]
     },
     "execution_count": 64,
     "metadata": {},
     "output_type": "execute_result"
    },
    {
     "data": {
      "image/png": "[encoded data removed]",
      "text/plain": [
       "<Figure size 640x480 with 1 Axes>"
      ]
     },
     "metadata": {},
     "output_type": "display_data"
    }
   ],
   "source": [
    "acc=[a5,a6,a7]\n",
    "met=[\"Adaboost\",\"Gradient\",\"XGBoost\"]\n",
    "plt.bar(met,acc)\n",
    "plt.title('Diff Boosting Methods')\n",
    "plt.ylabel('accuracy')"
   ]
  },
  {
   "cell_type": "code",
   "execution_count": null,
   "id": "fffaeaf3-fd2b-43bc-8a1b-ed9d50ad4d73",
   "metadata": {},
   "outputs": [],
   "source": []
  }
 ],
 "metadata": {
  "kernelspec": {
   "display_name": "Python 3 (ipykernel)",
   "language": "python",
   "name": "python3"
  },
  "language_info": {
   "codemirror_mode": {
    "name": "ipython",
    "version": 3
   },
   "file_extension": ".py",
   "mimetype": "text/x-python",
   "name": "python",
   "nbconvert_exporter": "python",
   "pygments_lexer": "ipython3",
   "version": "3.13.0"
  }
 },
 "nbformat": 4,
 "nbformat_minor": 5
}

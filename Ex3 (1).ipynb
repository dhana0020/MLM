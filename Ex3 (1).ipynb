{
 "cells": [
  {
   "cell_type": "markdown",
   "id": "e52f1ba7-d3fd-4efa-96eb-af58989bfb01",
   "metadata": {},
   "source": [
    "IRIS"
   ]
  },
  {
   "cell_type": "code",
   "execution_count": 1,
   "id": "16e850d5-e009-4ab1-af4c-fb283468935a",
   "metadata": {},
   "outputs": [
    {
     "data": {
      "text/html": [
       "<div>\n",
       "<style scoped>\n",
       "    .dataframe tbody tr th:only-of-type {\n",
       "        vertical-align: middle;\n",
       "    }\n",
       "\n",
       "    .dataframe tbody tr th {\n",
       "        vertical-align: top;\n",
       "    }\n",
       "\n",
       "    .dataframe thead th {\n",
       "        text-align: right;\n",
       "    }\n",
       "</style>\n",
       "<table border=\"1\" class=\"dataframe\">\n",
       "  <thead>\n",
       "    <tr style=\"text-align: right;\">\n",
       "      <th></th>\n",
       "      <th>sepal_length</th>\n",
       "      <th>sepal_width</th>\n",
       "      <th>petal_length</th>\n",
       "      <th>petal_width</th>\n",
       "      <th>species</th>\n",
       "    </tr>\n",
       "  </thead>\n",
       "  <tbody>\n",
       "    <tr>\n",
       "      <th>0</th>\n",
       "      <td>5.1</td>\n",
       "      <td>3.5</td>\n",
       "      <td>1.4</td>\n",
       "      <td>0.2</td>\n",
       "      <td>setosa</td>\n",
       "    </tr>\n",
       "    <tr>\n",
       "      <th>1</th>\n",
       "      <td>4.9</td>\n",
       "      <td>3.0</td>\n",
       "      <td>1.4</td>\n",
       "      <td>0.2</td>\n",
       "      <td>setosa</td>\n",
       "    </tr>\n",
       "    <tr>\n",
       "      <th>2</th>\n",
       "      <td>4.7</td>\n",
       "      <td>3.2</td>\n",
       "      <td>1.3</td>\n",
       "      <td>0.2</td>\n",
       "      <td>setosa</td>\n",
       "    </tr>\n",
       "    <tr>\n",
       "      <th>3</th>\n",
       "      <td>4.6</td>\n",
       "      <td>3.1</td>\n",
       "      <td>1.5</td>\n",
       "      <td>0.2</td>\n",
       "      <td>setosa</td>\n",
       "    </tr>\n",
       "    <tr>\n",
       "      <th>4</th>\n",
       "      <td>5.0</td>\n",
       "      <td>3.6</td>\n",
       "      <td>1.4</td>\n",
       "      <td>0.2</td>\n",
       "      <td>setosa</td>\n",
       "    </tr>\n",
       "  </tbody>\n",
       "</table>\n",
       "</div>"
      ],
      "text/plain": [
       "   sepal_length  sepal_width  petal_length  petal_width species\n",
       "0           5.1          3.5           1.4          0.2  setosa\n",
       "1           4.9          3.0           1.4          0.2  setosa\n",
       "2           4.7          3.2           1.3          0.2  setosa\n",
       "3           4.6          3.1           1.5          0.2  setosa\n",
       "4           5.0          3.6           1.4          0.2  setosa"
      ]
     },
     "execution_count": 1,
     "metadata": {},
     "output_type": "execute_result"
    }
   ],
   "source": [
    "import pandas as pd\n",
    "df=pd.read_csv(r\"iris.csv\")\n",
    "df.head()\n",
    "\n"
   ]
  },
  {
   "cell_type": "code",
   "execution_count": 2,
   "id": "a79b7be6-1844-41f9-9c0b-18a6dcbbebeb",
   "metadata": {},
   "outputs": [
    {
     "name": "stderr",
     "output_type": "stream",
     "text": [
      "C:\\Users\\hanal\\AppData\\Local\\Temp\\ipykernel_18180\\1597504167.py:1: FutureWarning: Downcasting behavior in `replace` is deprecated and will be removed in a future version. To retain the old behavior, explicitly call `result.infer_objects(copy=False)`. To opt-in to the future behavior, set `pd.set_option('future.no_silent_downcasting', True)`\n",
      "  df.replace({'setosa':0,'versicolor':1,'virginica':2},inplace=True)\n"
     ]
    }
   ],
   "source": [
    "df.replace({'setosa':0,'versicolor':1,'virginica':2},inplace=True)\n",
    "\n",
    "x=df.iloc[:,:-1]\n",
    "\n",
    "\n",
    "y=df.iloc[:,-1]"
   ]
  },
  {
   "cell_type": "code",
   "execution_count": 3,
   "id": "59b3fc32-8d78-4e87-971a-fd200c92b7c3",
   "metadata": {},
   "outputs": [
    {
     "data": {
      "text/html": [
       "<div>\n",
       "<style scoped>\n",
       "    .dataframe tbody tr th:only-of-type {\n",
       "        vertical-align: middle;\n",
       "    }\n",
       "\n",
       "    .dataframe tbody tr th {\n",
       "        vertical-align: top;\n",
       "    }\n",
       "\n",
       "    .dataframe thead th {\n",
       "        text-align: right;\n",
       "    }\n",
       "</style>\n",
       "<table border=\"1\" class=\"dataframe\">\n",
       "  <thead>\n",
       "    <tr style=\"text-align: right;\">\n",
       "      <th></th>\n",
       "      <th>sepal_length</th>\n",
       "      <th>sepal_width</th>\n",
       "      <th>petal_length</th>\n",
       "      <th>petal_width</th>\n",
       "      <th>species</th>\n",
       "    </tr>\n",
       "  </thead>\n",
       "  <tbody>\n",
       "    <tr>\n",
       "      <th>0</th>\n",
       "      <td>5.1</td>\n",
       "      <td>3.5</td>\n",
       "      <td>1.4</td>\n",
       "      <td>0.2</td>\n",
       "      <td>0</td>\n",
       "    </tr>\n",
       "    <tr>\n",
       "      <th>1</th>\n",
       "      <td>4.9</td>\n",
       "      <td>3.0</td>\n",
       "      <td>1.4</td>\n",
       "      <td>0.2</td>\n",
       "      <td>0</td>\n",
       "    </tr>\n",
       "    <tr>\n",
       "      <th>2</th>\n",
       "      <td>4.7</td>\n",
       "      <td>3.2</td>\n",
       "      <td>1.3</td>\n",
       "      <td>0.2</td>\n",
       "      <td>0</td>\n",
       "    </tr>\n",
       "    <tr>\n",
       "      <th>3</th>\n",
       "      <td>4.6</td>\n",
       "      <td>3.1</td>\n",
       "      <td>1.5</td>\n",
       "      <td>0.2</td>\n",
       "      <td>0</td>\n",
       "    </tr>\n",
       "    <tr>\n",
       "      <th>4</th>\n",
       "      <td>5.0</td>\n",
       "      <td>3.6</td>\n",
       "      <td>1.4</td>\n",
       "      <td>0.2</td>\n",
       "      <td>0</td>\n",
       "    </tr>\n",
       "  </tbody>\n",
       "</table>\n",
       "</div>"
      ],
      "text/plain": [
       "   sepal_length  sepal_width  petal_length  petal_width  species\n",
       "0           5.1          3.5           1.4          0.2        0\n",
       "1           4.9          3.0           1.4          0.2        0\n",
       "2           4.7          3.2           1.3          0.2        0\n",
       "3           4.6          3.1           1.5          0.2        0\n",
       "4           5.0          3.6           1.4          0.2        0"
      ]
     },
     "execution_count": 3,
     "metadata": {},
     "output_type": "execute_result"
    }
   ],
   "source": [
    "df.head()"
   ]
  },
  {
   "cell_type": "code",
   "execution_count": 4,
   "id": "c1446870-0bd8-4933-9ae3-4dfdc8c2fd1d",
   "metadata": {},
   "outputs": [],
   "source": [
    "from sklearn.model_selection import train_test_split as tt\n",
    "xtr,xte,ytr,yte = tt(x,y,test_size=20)"
   ]
  },
  {
   "cell_type": "code",
   "execution_count": 5,
   "id": "dcd28473-bfa3-4597-9c28-af6683fdf39b",
   "metadata": {},
   "outputs": [],
   "source": [
    "from sklearn.svm import SVC\n",
    "from sklearn.naive_bayes import GaussianNB as gn\n",
    "import numpy as np\n",
    "from scipy.stats import mode\n",
    "from sklearn.metrics import accuracy_score as ac\n",
    "from sklearn.utils import resample\n",
    "import matplotlib.pyplot as plt\n"
   ]
  },
  {
   "cell_type": "code",
   "execution_count": 6,
   "id": "39def154-6f0e-44b7-a4fd-d29dc80a8dda",
   "metadata": {},
   "outputs": [],
   "source": [
    "\n",
    "\n",
    "\n",
    "def bias_variance(xtr,xte,ytr,yte,model):\n",
    "    prediction=[]\n",
    "    for i in range(10):\n",
    "        xboot , yboot = resample(xtr,ytr,replace = True)\n",
    "        model.fit(xboot,yboot)\n",
    "        yp=model.predict(xte)\n",
    "        prediction.append(yp)\n",
    "\n",
    "    pred=np.array(prediction,dtype=int)\n",
    "    fpred,_=mode(pred, axis=0,keepdims=False)\n",
    "    bias=1-ac(yte,fpred)\n",
    "\n",
    "    var=np.mean([np.mean(i!=fpred) for i in pred ] )\n",
    "    return bias,var"
   ]
  },
  {
   "cell_type": "code",
   "execution_count": 15,
   "id": "afb5de64-b9b4-4749-95d9-a22a784d5293",
   "metadata": {},
   "outputs": [
    {
     "name": "stdout",
     "output_type": "stream",
     "text": [
      "For SVM : \n",
      "Bias :  0.0\n",
      "Variance :  0.04\n"
     ]
    }
   ],
   "source": [
    "svc=SVC()\n",
    "bias1,var1=bias_variance(xtr,xte,ytr,yte,svc)\n",
    "print(\"For SVM : \")\n",
    "print(\"Bias : \",bias1)\n",
    "print(\"Variance : \",var1)"
   ]
  },
  {
   "cell_type": "code",
   "execution_count": 16,
   "id": "48dabcc5-a0ba-4e3a-865f-4d8ed94642bf",
   "metadata": {},
   "outputs": [
    {
     "name": "stdout",
     "output_type": "stream",
     "text": [
      "For NAIVE_BAYES : \n",
      "Bias :  0.09999999999999998\n",
      "Variance :  0.030000000000000006\n"
     ]
    }
   ],
   "source": [
    "bayes=gn()\n",
    "bias2,var2=bias_variance(xtr,xte,ytr,yte,svc)\n",
    "print(\"For NAIVE_BAYES : \")\n",
    "print(\"Bias : \",bias2)\n",
    "print(\"Variance : \",var2)"
   ]
  },
  {
   "cell_type": "code",
   "execution_count": 17,
   "id": "b601f950-742d-49b7-b303-4d959093282d",
   "metadata": {},
   "outputs": [
    {
     "data": {
      "image/png": "[encoded data removed]",
      "text/plain": [
       "<Figure size 640x480 with 1 Axes>"
      ]
     },
     "metadata": {},
     "output_type": "display_data"
    }
   ],
   "source": [
    "\n",
    "models = [\"SVM\", \"Naive Bayes\"]\n",
    "bias_values = [bias1, bias2]       \n",
    "variance_values = [var1, var2]\n",
    "\n",
    "x = range(len(models))\n",
    "plt.bar(x, bias_values, label=\"Bias\")\n",
    "plt.bar(x, variance_values, bottom=bias_values, label=\"Variance\")\n",
    "plt.xticks(x, models)\n",
    "plt.ylabel(\"Error\")\n",
    "plt.title(\"Bias & Variance Comparison on Iris\")\n",
    "plt.legend()\n",
    "plt.show()\n"
   ]
  },
  {
   "cell_type": "markdown",
   "id": "6923fdb8-9073-41a8-a59f-de45f68a8728",
   "metadata": {},
   "source": [
    "DIABETES"
   ]
  },
  {
   "cell_type": "code",
   "execution_count": 37,
   "id": "13c2f18f-7e6a-492a-b3f6-99ea3165c909",
   "metadata": {},
   "outputs": [],
   "source": [
    "import pandas as pd\n",
    "from sklearn.svm import SVR"
   ]
  },
  {
   "cell_type": "code",
   "execution_count": 38,
   "id": "a7db648c-35fc-4b25-a056-12af2e2cf8c8",
   "metadata": {},
   "outputs": [
    {
     "data": {
      "text/html": [
       "<div>\n",
       "<style scoped>\n",
       "    .dataframe tbody tr th:only-of-type {\n",
       "        vertical-align: middle;\n",
       "    }\n",
       "\n",
       "    .dataframe tbody tr th {\n",
       "        vertical-align: top;\n",
       "    }\n",
       "\n",
       "    .dataframe thead th {\n",
       "        text-align: right;\n",
       "    }\n",
       "</style>\n",
       "<table border=\"1\" class=\"dataframe\">\n",
       "  <thead>\n",
       "    <tr style=\"text-align: right;\">\n",
       "      <th></th>\n",
       "      <th>age</th>\n",
       "      <th>sex</th>\n",
       "      <th>bmi</th>\n",
       "      <th>bp</th>\n",
       "      <th>s1</th>\n",
       "      <th>s2</th>\n",
       "      <th>s3</th>\n",
       "      <th>s4</th>\n",
       "      <th>s5</th>\n",
       "      <th>s6</th>\n",
       "      <th>target</th>\n",
       "    </tr>\n",
       "  </thead>\n",
       "  <tbody>\n",
       "    <tr>\n",
       "      <th>0</th>\n",
       "      <td>0.038076</td>\n",
       "      <td>0.050680</td>\n",
       "      <td>0.061696</td>\n",
       "      <td>0.021872</td>\n",
       "      <td>-0.044223</td>\n",
       "      <td>-0.034821</td>\n",
       "      <td>-0.043401</td>\n",
       "      <td>-0.002592</td>\n",
       "      <td>0.019907</td>\n",
       "      <td>-0.017646</td>\n",
       "      <td>151.0</td>\n",
       "    </tr>\n",
       "    <tr>\n",
       "      <th>1</th>\n",
       "      <td>-0.001882</td>\n",
       "      <td>-0.044642</td>\n",
       "      <td>-0.051474</td>\n",
       "      <td>-0.026328</td>\n",
       "      <td>-0.008449</td>\n",
       "      <td>-0.019163</td>\n",
       "      <td>0.074412</td>\n",
       "      <td>-0.039493</td>\n",
       "      <td>-0.068332</td>\n",
       "      <td>-0.092204</td>\n",
       "      <td>75.0</td>\n",
       "    </tr>\n",
       "    <tr>\n",
       "      <th>2</th>\n",
       "      <td>0.085299</td>\n",
       "      <td>0.050680</td>\n",
       "      <td>0.044451</td>\n",
       "      <td>-0.005670</td>\n",
       "      <td>-0.045599</td>\n",
       "      <td>-0.034194</td>\n",
       "      <td>-0.032356</td>\n",
       "      <td>-0.002592</td>\n",
       "      <td>0.002861</td>\n",
       "      <td>-0.025930</td>\n",
       "      <td>141.0</td>\n",
       "    </tr>\n",
       "    <tr>\n",
       "      <th>3</th>\n",
       "      <td>-0.089063</td>\n",
       "      <td>-0.044642</td>\n",
       "      <td>-0.011595</td>\n",
       "      <td>-0.036656</td>\n",
       "      <td>0.012191</td>\n",
       "      <td>0.024991</td>\n",
       "      <td>-0.036038</td>\n",
       "      <td>0.034309</td>\n",
       "      <td>0.022688</td>\n",
       "      <td>-0.009362</td>\n",
       "      <td>206.0</td>\n",
       "    </tr>\n",
       "    <tr>\n",
       "      <th>4</th>\n",
       "      <td>0.005383</td>\n",
       "      <td>-0.044642</td>\n",
       "      <td>-0.036385</td>\n",
       "      <td>0.021872</td>\n",
       "      <td>0.003935</td>\n",
       "      <td>0.015596</td>\n",
       "      <td>0.008142</td>\n",
       "      <td>-0.002592</td>\n",
       "      <td>-0.031988</td>\n",
       "      <td>-0.046641</td>\n",
       "      <td>135.0</td>\n",
       "    </tr>\n",
       "  </tbody>\n",
       "</table>\n",
       "</div>"
      ],
      "text/plain": [
       "        age       sex       bmi        bp        s1        s2        s3  \\\n",
       "0  0.038076  0.050680  0.061696  0.021872 -0.044223 -0.034821 -0.043401   \n",
       "1 -0.001882 -0.044642 -0.051474 -0.026328 -0.008449 -0.019163  0.074412   \n",
       "2  0.085299  0.050680  0.044451 -0.005670 -0.045599 -0.034194 -0.032356   \n",
       "3 -0.089063 -0.044642 -0.011595 -0.036656  0.012191  0.024991 -0.036038   \n",
       "4  0.005383 -0.044642 -0.036385  0.021872  0.003935  0.015596  0.008142   \n",
       "\n",
       "         s4        s5        s6  target  \n",
       "0 -0.002592  0.019907 -0.017646   151.0  \n",
       "1 -0.039493 -0.068332 -0.092204    75.0  \n",
       "2 -0.002592  0.002861 -0.025930   141.0  \n",
       "3  0.034309  0.022688 -0.009362   206.0  \n",
       "4 -0.002592 -0.031988 -0.046641   135.0  "
      ]
     },
     "execution_count": 38,
     "metadata": {},
     "output_type": "execute_result"
    }
   ],
   "source": [
    "from sklearn.datasets import load_diabetes\n",
    "d=load_diabetes()\n",
    "df = pd.DataFrame(d.data, columns=d.feature_names)\n",
    "\n",
    "df['target'] = d.target\n",
    "df.head()"
   ]
  },
  {
   "cell_type": "code",
   "execution_count": 39,
   "id": "29051e32-6a27-4916-94a1-860d6f3ee4c1",
   "metadata": {},
   "outputs": [],
   "source": [
    "\n",
    "x=df.iloc[:,:-1]\n",
    "\n",
    "\n",
    "y=df.iloc[:,-1]\n",
    "from sklearn.model_selection import train_test_split as tt\n",
    "xtr,xte,ytr,yte = tt(x,y,test_size=20)"
   ]
  },
  {
   "cell_type": "code",
   "execution_count": 40,
   "id": "349eb843-e81c-4ab6-9756-d74ac1fcc0ef",
   "metadata": {},
   "outputs": [],
   "source": [
    "\n",
    "\n",
    "\n",
    "def bias_variance(xtr,xte,ytr,yte,model):\n",
    "    prediction=[]\n",
    "    for i in range(10):\n",
    "        xboot , yboot = resample(xtr,ytr,replace = True)\n",
    "        model.fit(xboot,yboot)\n",
    "        yp=model.predict(xte)\n",
    "        prediction.append(yp)\n",
    "\n",
    "    pred=np.array(prediction,dtype=int)\n",
    "    pmean=np.mean(pred, axis=0,keepdims=False)\n",
    "    bias=np.mean((pmean-yte)**2)\n",
    "    \n",
    "\n",
    "    var=np.mean(np.var(pred,axis=0))\n",
    "    return bias,var"
   ]
  },
  {
   "cell_type": "code",
   "execution_count": 45,
   "id": "8278c0f0-5b5b-4348-bceb-d693da2881d8",
   "metadata": {},
   "outputs": [
    {
     "name": "stdout",
     "output_type": "stream",
     "text": [
      "Bias :  68.92283003475698\n",
      "Variance :  18.3685\n",
      "Error :  4768.724999999999\n"
     ]
    }
   ],
   "source": [
    "svr=SVR()\n",
    "bias2,var=bias_variance(xtr,xte,ytr,yte,svr)\n",
    "error=bias2+var\n",
    "print(\"Bias : \",np.sqrt(bias2))\n",
    "print(\"Variance : \",var)\n",
    "print(\"Error : \",error)"
   ]
  },
  {
   "cell_type": "code",
   "execution_count": 43,
   "id": "892488d9-e44a-4c9e-ab10-d6ff1372b11e",
   "metadata": {},
   "outputs": [],
   "source": [
    "\n",
    "# metrics = ['Bias', 'Variance']\n",
    "# values = [np.sqrt(bias2), var]\n",
    "\n",
    "# plt.bar(metrics, values, color=['red', 'blue'])\n",
    "# plt.ylabel(\"Error Value\")\n",
    "\n",
    "# plt.show()\n"
   ]
  },
  {
   "cell_type": "code",
   "execution_count": 49,
   "id": "6767586f-72b9-4915-bfdf-d54f5d13637a",
   "metadata": {},
   "outputs": [],
   "source": [
    "# C_values = [0.01, 0.1, 1, 10, 100]\n",
    "# bias_list, var_list, total_error = [], [], []\n",
    "# svr=SVR()\n",
    "# for C in C_values:\n",
    "#     svr = SVR(kernel='rbf', C=C)\n",
    "#     bias, variance = bias_variance(xtr, xte, ytr, yte, svr)\n",
    "#     bias_list.append(bias)\n",
    "#     var_list.append(variance)\n",
    "#     total_error.append(bias**2 + variance)  # Total error\n",
    "\n",
    "# # ✅ Plot Tradeoff\n",
    "# plt.figure(figsize=(8,5))\n",
    "# plt.plot(C_values, bias_list, 'ro-', label=\"Bias\")\n",
    "# plt.plot(C_values, var_list, 'bo-', label=\"Variance\")\n",
    "# plt.plot(C_values, total_error, 'go-', label=\"Total Error\")\n",
    "\n",
    "# plt.xscale('log')  # log scale for C\n",
    "# plt.xlabel(\"Model Complexity (C parameter)\")\n",
    "# plt.ylabel(\"Error\")\n",
    "# plt.title(\"Bias–Variance Tradeoff (SVR on Diabetes Regression)\")\n",
    "# plt.legend()\n",
    "# plt.grid(True)\n",
    "# plt.show()"
   ]
  },
  {
   "cell_type": "code",
   "execution_count": 48,
   "id": "3f2cc751-453e-470b-b4a7-34d48c116639",
   "metadata": {},
   "outputs": [],
   "source": [
    "# fig, ax1 = plt.subplots()\n",
    "\n",
    "# ax1.set_xscale('log')\n",
    "# ax1.plot(C_values, bias_list, 'ro-', label=\"Bias\")\n",
    "# ax1.plot(C_values, var_list, 'bo-', label=\"Variance\")\n",
    "# ax1.set_ylabel(\"Bias / Variance\")\n",
    "\n",
    "# ax2 = ax1.twinx()\n",
    "# ax2.plot(C_values, total_error, 'go-', label=\"Total Error\")\n",
    "# ax2.set_ylabel(\"Total Error\")\n",
    "\n",
    "# plt.xlabel(\"Model Complexity (C)\")\n",
    "# plt.title(\"Bias-Variance Tradeoff\")\n",
    "# plt.show()\n"
   ]
  },
  {
   "cell_type": "code",
   "execution_count": null,
   "id": "a7665706-1cce-4712-933a-a027fbdb0238",
   "metadata": {},
   "outputs": [],
   "source": []
  },
  {
   "cell_type": "markdown",
   "id": "38857ff3-7cb9-4506-90ea-d618ff3535f6",
   "metadata": {},
   "source": [
    "TITANIC"
   ]
  },
  {
   "cell_type": "code",
   "execution_count": 29,
   "id": "714bf340-1b7d-4c60-8dd4-d46902f9c45f",
   "metadata": {},
   "outputs": [
    {
     "data": {
      "text/html": [
       "<div>\n",
       "<style scoped>\n",
       "    .dataframe tbody tr th:only-of-type {\n",
       "        vertical-align: middle;\n",
       "    }\n",
       "\n",
       "    .dataframe tbody tr th {\n",
       "        vertical-align: top;\n",
       "    }\n",
       "\n",
       "    .dataframe thead th {\n",
       "        text-align: right;\n",
       "    }\n",
       "</style>\n",
       "<table border=\"1\" class=\"dataframe\">\n",
       "  <thead>\n",
       "    <tr style=\"text-align: right;\">\n",
       "      <th></th>\n",
       "      <th>PassengerId</th>\n",
       "      <th>Survived</th>\n",
       "      <th>Pclass</th>\n",
       "      <th>Name</th>\n",
       "      <th>Sex</th>\n",
       "      <th>Age</th>\n",
       "      <th>SibSp</th>\n",
       "      <th>Parch</th>\n",
       "      <th>Ticket</th>\n",
       "      <th>Fare</th>\n",
       "      <th>Cabin</th>\n",
       "      <th>Embarked</th>\n",
       "    </tr>\n",
       "  </thead>\n",
       "  <tbody>\n",
       "    <tr>\n",
       "      <th>0</th>\n",
       "      <td>1</td>\n",
       "      <td>0</td>\n",
       "      <td>3</td>\n",
       "      <td>Braund, Mr. Owen Harris</td>\n",
       "      <td>0</td>\n",
       "      <td>22.0</td>\n",
       "      <td>1</td>\n",
       "      <td>0</td>\n",
       "      <td>A/5 21171</td>\n",
       "      <td>7.2500</td>\n",
       "      <td>NaN</td>\n",
       "      <td>2.0</td>\n",
       "    </tr>\n",
       "    <tr>\n",
       "      <th>1</th>\n",
       "      <td>2</td>\n",
       "      <td>1</td>\n",
       "      <td>1</td>\n",
       "      <td>Cumings, Mrs. John Bradley (Florence Briggs Th...</td>\n",
       "      <td>1</td>\n",
       "      <td>38.0</td>\n",
       "      <td>1</td>\n",
       "      <td>0</td>\n",
       "      <td>PC 17599</td>\n",
       "      <td>71.2833</td>\n",
       "      <td>C85</td>\n",
       "      <td>0.0</td>\n",
       "    </tr>\n",
       "    <tr>\n",
       "      <th>2</th>\n",
       "      <td>3</td>\n",
       "      <td>1</td>\n",
       "      <td>3</td>\n",
       "      <td>Heikkinen, Miss. Laina</td>\n",
       "      <td>1</td>\n",
       "      <td>26.0</td>\n",
       "      <td>0</td>\n",
       "      <td>0</td>\n",
       "      <td>STON/O2. 3101282</td>\n",
       "      <td>7.9250</td>\n",
       "      <td>NaN</td>\n",
       "      <td>2.0</td>\n",
       "    </tr>\n",
       "    <tr>\n",
       "      <th>3</th>\n",
       "      <td>4</td>\n",
       "      <td>1</td>\n",
       "      <td>1</td>\n",
       "      <td>Futrelle, Mrs. Jacques Heath (Lily May Peel)</td>\n",
       "      <td>1</td>\n",
       "      <td>35.0</td>\n",
       "      <td>1</td>\n",
       "      <td>0</td>\n",
       "      <td>113803</td>\n",
       "      <td>53.1000</td>\n",
       "      <td>C123</td>\n",
       "      <td>2.0</td>\n",
       "    </tr>\n",
       "    <tr>\n",
       "      <th>4</th>\n",
       "      <td>5</td>\n",
       "      <td>0</td>\n",
       "      <td>3</td>\n",
       "      <td>Allen, Mr. William Henry</td>\n",
       "      <td>0</td>\n",
       "      <td>35.0</td>\n",
       "      <td>0</td>\n",
       "      <td>0</td>\n",
       "      <td>373450</td>\n",
       "      <td>8.0500</td>\n",
       "      <td>NaN</td>\n",
       "      <td>2.0</td>\n",
       "    </tr>\n",
       "  </tbody>\n",
       "</table>\n",
       "</div>"
      ],
      "text/plain": [
       "   PassengerId  Survived  Pclass  \\\n",
       "0            1         0       3   \n",
       "1            2         1       1   \n",
       "2            3         1       3   \n",
       "3            4         1       1   \n",
       "4            5         0       3   \n",
       "\n",
       "                                                Name  Sex   Age  SibSp  Parch  \\\n",
       "0                            Braund, Mr. Owen Harris    0  22.0      1      0   \n",
       "1  Cumings, Mrs. John Bradley (Florence Briggs Th...    1  38.0      1      0   \n",
       "2                             Heikkinen, Miss. Laina    1  26.0      0      0   \n",
       "3       Futrelle, Mrs. Jacques Heath (Lily May Peel)    1  35.0      1      0   \n",
       "4                           Allen, Mr. William Henry    0  35.0      0      0   \n",
       "\n",
       "             Ticket     Fare Cabin  Embarked  \n",
       "0         A/5 21171   7.2500   NaN       2.0  \n",
       "1          PC 17599  71.2833   C85       0.0  \n",
       "2  STON/O2. 3101282   7.9250   NaN       2.0  \n",
       "3            113803  53.1000  C123       2.0  \n",
       "4            373450   8.0500   NaN       2.0  "
      ]
     },
     "execution_count": 29,
     "metadata": {},
     "output_type": "execute_result"
    }
   ],
   "source": [
    "df=pd.read_csv(r\"Titanic-Dataset.csv\")\n",
    "df = df.fillna(df.median(numeric_only=True))\n",
    "df[\"Sex\"] = df[\"Sex\"].map({\"male\": 0, \"female\": 1})\n",
    "df[\"Embarked\"] = df[\"Embarked\"].map({\"C\": 0, \"Q\": 1, \"S\": 2})\n",
    "df.head()"
   ]
  },
  {
   "cell_type": "code",
   "execution_count": 30,
   "id": "bd7785aa-e8f4-4588-bfb6-bea691a8b983",
   "metadata": {},
   "outputs": [],
   "source": [
    "\n",
    "\n",
    "# df = df.fillna(df.median(numeric_only=True))\n"
   ]
  },
  {
   "cell_type": "code",
   "execution_count": 31,
   "id": "c555e709-e481-42a6-854d-c655fb0efe12",
   "metadata": {},
   "outputs": [],
   "source": [
    "\n",
    "x = df.drop(df.columns[1], axis=1) \n",
    "x = x.drop([\"PassengerId\", \"Name\", \"Ticket\", \"Cabin\"], axis=1)\n",
    "y=df['Survived']\n",
    "from sklearn.model_selection import train_test_split as tt\n",
    "xtr,xte,ytr,yte = tt(x,y,test_size=20)"
   ]
  },
  {
   "cell_type": "code",
   "execution_count": 32,
   "id": "21be781c-1ee5-4f66-bc83-35ac256ac8d9",
   "metadata": {},
   "outputs": [],
   "source": [
    "\n",
    "from sklearn.impute import SimpleImputer\n",
    "def bias_variance(xtr, xte, ytr, yte, model, n_bootstrap=10):\n",
    "\n",
    "    if isinstance(xtr, pd.Series):\n",
    "        xtr = xtr.to_frame()\n",
    "    if isinstance(xte, pd.Series):\n",
    "        xte = xte.to_frame()\n",
    "    imputer = SimpleImputer(strategy='mean')\n",
    "    all_preds = []\n",
    "    \n",
    "    for i in range(n_bootstrap):\n",
    "     \n",
    "        xboot, yboot = resample(xtr, ytr, replace=True)\n",
    "        boot_df = pd.concat([xboot, yboot], axis=1).dropna(how=\"all\")\n",
    "        xboot = boot_df.iloc[:, :-1]\n",
    "        yboot = boot_df.iloc[:, -1]\n",
    "        xboot_imp = imputer.fit_transform(xboot)\n",
    "        xte_imp   = imputer.transform(xte) \n",
    "        model.fit(xboot_imp, yboot)\n",
    "        y_pred = model.predict(xte_imp)\n",
    "        all_preds.append(y_pred)\n",
    "    all_preds = np.array(all_preds)\n",
    "    avg_preds = np.mean(all_preds, axis=0)\n",
    "    bias = np.mean((avg_preds - yte.values) ** 2)\n",
    "    variance = np.mean(np.var(all_preds, axis=0))\n",
    "    \n",
    "    return bias, variance"
   ]
  },
  {
   "cell_type": "code",
   "execution_count": 33,
   "id": "843dd5d7-d35d-4c6b-987b-959be3a85f4a",
   "metadata": {},
   "outputs": [
    {
     "name": "stdout",
     "output_type": "stream",
     "text": [
      "For SVM : \n",
      "Bias :  0.43900000000000006\n",
      "Variance :  0.041\n"
     ]
    }
   ],
   "source": [
    "svc=SVC()\n",
    "bias1,var1=bias_variance(xtr,xte,ytr,yte,svc)\n",
    "print(\"For SVM : \")\n",
    "print(\"Bias : \",bias1)\n",
    "print(\"Variance : \",var1)"
   ]
  },
  {
   "cell_type": "code",
   "execution_count": 39,
   "id": "4dd7d300-9e60-4ecb-81ae-03b56ac878df",
   "metadata": {},
   "outputs": [
    {
     "name": "stdout",
     "output_type": "stream",
     "text": [
      "For NAIVE_BAYES : \n",
      "Bias :  0.308\n",
      "Variance :  0.012000000000000002\n"
     ]
    }
   ],
   "source": [
    "bayes=gn()\n",
    "bias2,var2=bias_variance(xtr,xte,ytr,yte,bayes)\n",
    "print(\"For NAIVE_BAYES : \")\n",
    "print(\"Bias : \",bias2)\n",
    "print(\"Variance : \",var2)"
   ]
  },
  {
   "cell_type": "code",
   "execution_count": 42,
   "id": "b3446897-3a28-4b0c-afd2-2b53c7e72285",
   "metadata": {},
   "outputs": [
    {
     "data": {
      "image/png": "[encoded data removed]",
      "text/plain": [
       "<Figure size 640x480 with 1 Axes>"
      ]
     },
     "metadata": {},
     "output_type": "display_data"
    }
   ],
   "source": [
    "\n",
    "models = [\"SVM\", \"Naive Bayes\"]\n",
    "bias_values = [bias1, bias2]      \n",
    "variance_values = [var1,var2]\n",
    "\n",
    "x = range(len(models))\n",
    "plt.bar(x, bias_values, label=\"Bias\")\n",
    "plt.bar(x, variance_values,  label=\"Variance\")\n",
    "plt.xticks(x, models)\n",
    "plt.ylabel(\"Error\")\n",
    "\n",
    "plt.legend()\n",
    "plt.show()\n"
   ]
  },
  {
   "cell_type": "code",
   "execution_count": null,
   "id": "45a45575-9647-4174-b4a3-523320d641c2",
   "metadata": {},
   "outputs": [],
   "source": []
  }
 ],
 "metadata": {
  "kernelspec": {
   "display_name": "Python 3 (ipykernel)",
   "language": "python",
   "name": "python3"
  },
  "language_info": {
   "codemirror_mode": {
    "name": "ipython",
    "version": 3
   },
   "file_extension": ".py",
   "mimetype": "text/x-python",
   "name": "python",
   "nbconvert_exporter": "python",
   "pygments_lexer": "ipython3",
   "version": "3.13.0"
  }
 },
 "nbformat": 4,
 "nbformat_minor": 5
}
